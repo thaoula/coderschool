{
 "cells": [
  {
   "cell_type": "markdown",
   "metadata": {},
   "source": [
    "# Lesson 1 - Problem Set\n",
    "\n",
    "Please solve the questions in this notebook and submit the completed notebook. The timestamp of submission will be considered the timestamp of completion.\n",
    "\n",
    "1. Create a 3x3x3 array with random values. $_{5\\text{pts}}$\n",
    "\n",
    "1. Create a 4x4 matrix with row values ranging from 0 to 3. $_{5\\text{pts}}$\n",
    "\n",
    "1. Create a random numpy array with 25 elements in sorted order (from least to greatest). $_{5\\text{pts}}$\n",
    "\n",
    "1. Write a function which takes a numpy array `arr` and a scalar `n` and returns the closest value in the array to the provided scalar `n`. $_{10\\text{pts}}$.\n",
    "\n",
    "    **Hint**: Consider the [argmin](https://docs.scipy.org/doc/numpy/reference/generated/numpy.argmin.html) function provided by numpy\n",
    "    \n",
    "1. In the first lesson, we saw the use of the [matplotlib](https://matplotlib.org/) library to generate graphical representations of our data. Using this library, we are going to plot a normal distribution. $_{10\\text{pts}}$.\n",
    "    1. Using the terms mean, variance, and standard deviation, describe a uniform distribution? $_{2\\text{pts}}$.\n",
    "    1. Using the terms mean, variance, and standard deviation, describe a normal distribution? $_{2\\text{pts}}$.\n",
    "    1. Using the [normal](https://docs.scipy.org/doc/numpy-1.14.0/reference/generated/numpy.random.normal.html) function, generate a numpy array of normally distributed numbers. $_{2\\text{pts}}$. (*Hint: Generate the distribution by leveraging your knowledge of mean, variance, and standard deviation.*)\n",
    "    1. What is a histogram? $_{2\\text{pts}}$.\n",
    "    1. Plot a histogram of the normally distributed data that you generated above. $_{2\\text{pts}}$.\n",
    "\n",
    "1. Using a histogram, plot normally sampled data in order to answer the following questions. $_{5\\text{pts}}$.\n",
    "    1. What happens when you change the mean? $_{2.5\\text{pts}}$.\n",
    "    1. What happens when you change the standard deviation? $_{2.5\\text{pts}}$."
   ]
  },
  {
   "cell_type": "code",
   "execution_count": 6,
   "metadata": {},
   "outputs": [
    {
     "name": "stdout",
     "output_type": "stream",
     "text": [
      "[[[0.44256638 0.15491149 0.67334519]\n",
      "  [0.00259519 0.66483105 0.47421612]\n",
      "  [0.12555195 0.52311612 0.7121966 ]]\n",
      "\n",
      " [[0.5179985  0.68474254 0.7337718 ]\n",
      "  [0.78703177 0.04186538 0.34123881]\n",
      "  [0.13212949 0.90833947 0.4604182 ]]\n",
      "\n",
      " [[0.42922937 0.39409548 0.88558489]\n",
      "  [0.5092275  0.4546574  0.83198005]\n",
      "  [0.43774473 0.28893844 0.18482894]]]\n"
     ]
    }
   ],
   "source": [
    "import numpy as np\n",
    "array_3x3x3 = np.random.random((3,3,3))\n",
    "print(array_3x3x3)"
   ]
  },
  {
   "cell_type": "code",
   "execution_count": 7,
   "metadata": {},
   "outputs": [
    {
     "name": "stdout",
     "output_type": "stream",
     "text": [
      "[[2 2 3 1]\n",
      " [2 1 3 2]\n",
      " [3 0 1 2]\n",
      " [0 2 1 1]]\n"
     ]
    }
   ],
   "source": [
    "matrix_4x4 = np.matrix(np.random.randint(0,4, size=(4, 4)))\n",
    "print(matrix_4x4)"
   ]
  },
  {
   "cell_type": "code",
   "execution_count": 43,
   "metadata": {},
   "outputs": [
    {
     "name": "stdout",
     "output_type": "stream",
     "text": [
      "[0.00150144 0.01059475 0.02594152 0.03903563 0.04391885 0.09896047\n",
      " 0.11725037 0.20172423 0.209346   0.22577187 0.29466662 0.40898681\n",
      " 0.48222117 0.52676267 0.56729547 0.67326815 0.69115906 0.78295122\n",
      " 0.79617505 0.80798132 0.84038301 0.84950949 0.85683415 0.96047567\n",
      " 0.97483292]\n"
     ]
    }
   ],
   "source": [
    "array_25_sorted = np.random.random((25))\n",
    "array_25_sorted.sort()\n",
    "print(array_25_sorted)"
   ]
  },
  {
   "cell_type": "code",
   "execution_count": 29,
   "metadata": {},
   "outputs": [
    {
     "name": "stdout",
     "output_type": "stream",
     "text": [
      "5\n",
      "4\n"
     ]
    }
   ],
   "source": [
    "def find_closest(array, value):\n",
    "    np_array = np.asarray(array)\n",
    "    index = (np.abs(np_array - value)).argmin()\n",
    "    return np_array[index]\n",
    "\n",
    "print(find_closest([1,3,4,5,6], 5))\n",
    "print(find_closest([1,3,4,5,6], 3.6))\n"
   ]
  },
  {
   "cell_type": "code",
   "execution_count": 51,
   "metadata": {},
   "outputs": [
    {
     "data": {
      "image/png": "[encoded data removed]",
      "text/plain": [
       "<Figure size 432x288 with 1 Axes>"
      ]
     },
     "metadata": {},
     "output_type": "display_data"
    }
   ],
   "source": [
    "import numpy as np \n",
    "import matplotlib.pyplot as plt\n",
    "mu, sigma = 0, 0.1\n",
    "\n",
    "values= np.random.normal(mu,sigma, 10000)\n",
    "plt.hist(values,100)\n",
    "plt.show()"
   ]
  },
  {
   "cell_type": "markdown",
   "metadata": {},
   "source": [
    "I cannot answer the questions. I really need to brush up on the this mathematics"
   ]
  }
 ],
 "metadata": {
  "kernelspec": {
   "display_name": "Python 3",
   "language": "python",
   "name": "python3"
  },
  "language_info": {
   "codemirror_mode": {
    "name": "ipython",
    "version": 3
   },
   "file_extension": ".py",
   "mimetype": "text/x-python",
   "name": "python",
   "nbconvert_exporter": "python",
   "pygments_lexer": "ipython3",
   "version": "3.6.5"
  }
 },
 "nbformat": 4,
 "nbformat_minor": 2
}
